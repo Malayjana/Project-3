{
 "cells": [
  {
   "cell_type": "code",
   "execution_count": 2,
   "id": "e9de431f",
   "metadata": {},
   "outputs": [],
   "source": [
    "import pandas as pd\n",
    "import numpy as np\n",
    "import matplotlib.pyplot as plt"
   ]
  },
  {
   "cell_type": "code",
   "execution_count": 3,
   "id": "cad45106",
   "metadata": {},
   "outputs": [],
   "source": [
    "df1=pd.read_csv('C:/Users/HP/OneDrive/Desktop/project2_in_anew-env/telecommunications_churn_new.csv')"
   ]
  },
  {
   "cell_type": "code",
   "execution_count": 4,
   "id": "c98c15fd",
   "metadata": {},
   "outputs": [
    {
     "data": {
      "text/html": [
       "<div>\n",
       "<style scoped>\n",
       "    .dataframe tbody tr th:only-of-type {\n",
       "        vertical-align: middle;\n",
       "    }\n",
       "\n",
       "    .dataframe tbody tr th {\n",
       "        vertical-align: top;\n",
       "    }\n",
       "\n",
       "    .dataframe thead th {\n",
       "        text-align: right;\n",
       "    }\n",
       "</style>\n",
       "<table border=\"1\" class=\"dataframe\">\n",
       "  <thead>\n",
       "    <tr style=\"text-align: right;\">\n",
       "      <th></th>\n",
       "      <th>account_length</th>\n",
       "      <th>voice_mail_plan</th>\n",
       "      <th>voice_mail_messages</th>\n",
       "      <th>day_mins</th>\n",
       "      <th>evening_mins</th>\n",
       "      <th>night_mins</th>\n",
       "      <th>international_mins</th>\n",
       "      <th>customer_service_calls</th>\n",
       "      <th>international_plan</th>\n",
       "      <th>day_calls</th>\n",
       "      <th>day_charge</th>\n",
       "      <th>evening_calls</th>\n",
       "      <th>evening_charge</th>\n",
       "      <th>night_calls</th>\n",
       "      <th>night_charge</th>\n",
       "      <th>international_calls</th>\n",
       "      <th>international_charge</th>\n",
       "      <th>total_charge</th>\n",
       "      <th>churn</th>\n",
       "    </tr>\n",
       "  </thead>\n",
       "  <tbody>\n",
       "    <tr>\n",
       "      <th>0</th>\n",
       "      <td>128</td>\n",
       "      <td>1</td>\n",
       "      <td>25</td>\n",
       "      <td>265.1</td>\n",
       "      <td>197.4</td>\n",
       "      <td>244.7</td>\n",
       "      <td>10.0</td>\n",
       "      <td>1</td>\n",
       "      <td>0</td>\n",
       "      <td>110</td>\n",
       "      <td>45.07</td>\n",
       "      <td>99</td>\n",
       "      <td>16.78</td>\n",
       "      <td>91</td>\n",
       "      <td>11.01</td>\n",
       "      <td>3</td>\n",
       "      <td>2.70</td>\n",
       "      <td>75.56</td>\n",
       "      <td>0</td>\n",
       "    </tr>\n",
       "    <tr>\n",
       "      <th>1</th>\n",
       "      <td>107</td>\n",
       "      <td>1</td>\n",
       "      <td>26</td>\n",
       "      <td>161.6</td>\n",
       "      <td>195.5</td>\n",
       "      <td>254.4</td>\n",
       "      <td>13.7</td>\n",
       "      <td>1</td>\n",
       "      <td>0</td>\n",
       "      <td>123</td>\n",
       "      <td>27.47</td>\n",
       "      <td>103</td>\n",
       "      <td>16.62</td>\n",
       "      <td>103</td>\n",
       "      <td>11.45</td>\n",
       "      <td>3</td>\n",
       "      <td>3.70</td>\n",
       "      <td>59.24</td>\n",
       "      <td>0</td>\n",
       "    </tr>\n",
       "    <tr>\n",
       "      <th>2</th>\n",
       "      <td>137</td>\n",
       "      <td>0</td>\n",
       "      <td>0</td>\n",
       "      <td>243.4</td>\n",
       "      <td>121.2</td>\n",
       "      <td>162.6</td>\n",
       "      <td>12.2</td>\n",
       "      <td>0</td>\n",
       "      <td>0</td>\n",
       "      <td>114</td>\n",
       "      <td>41.38</td>\n",
       "      <td>110</td>\n",
       "      <td>10.30</td>\n",
       "      <td>104</td>\n",
       "      <td>7.32</td>\n",
       "      <td>5</td>\n",
       "      <td>3.29</td>\n",
       "      <td>62.29</td>\n",
       "      <td>0</td>\n",
       "    </tr>\n",
       "    <tr>\n",
       "      <th>3</th>\n",
       "      <td>84</td>\n",
       "      <td>0</td>\n",
       "      <td>0</td>\n",
       "      <td>299.4</td>\n",
       "      <td>61.9</td>\n",
       "      <td>196.9</td>\n",
       "      <td>6.6</td>\n",
       "      <td>2</td>\n",
       "      <td>1</td>\n",
       "      <td>71</td>\n",
       "      <td>50.90</td>\n",
       "      <td>88</td>\n",
       "      <td>5.26</td>\n",
       "      <td>89</td>\n",
       "      <td>8.86</td>\n",
       "      <td>7</td>\n",
       "      <td>1.78</td>\n",
       "      <td>66.80</td>\n",
       "      <td>0</td>\n",
       "    </tr>\n",
       "    <tr>\n",
       "      <th>4</th>\n",
       "      <td>75</td>\n",
       "      <td>0</td>\n",
       "      <td>0</td>\n",
       "      <td>166.7</td>\n",
       "      <td>148.3</td>\n",
       "      <td>186.9</td>\n",
       "      <td>10.1</td>\n",
       "      <td>3</td>\n",
       "      <td>1</td>\n",
       "      <td>113</td>\n",
       "      <td>28.34</td>\n",
       "      <td>122</td>\n",
       "      <td>12.61</td>\n",
       "      <td>121</td>\n",
       "      <td>8.41</td>\n",
       "      <td>3</td>\n",
       "      <td>2.73</td>\n",
       "      <td>52.09</td>\n",
       "      <td>0</td>\n",
       "    </tr>\n",
       "  </tbody>\n",
       "</table>\n",
       "</div>"
      ],
      "text/plain": [
       "   account_length  voice_mail_plan  voice_mail_messages  day_mins  \\\n",
       "0             128                1                   25     265.1   \n",
       "1             107                1                   26     161.6   \n",
       "2             137                0                    0     243.4   \n",
       "3              84                0                    0     299.4   \n",
       "4              75                0                    0     166.7   \n",
       "\n",
       "   evening_mins  night_mins  international_mins  customer_service_calls  \\\n",
       "0         197.4       244.7                10.0                       1   \n",
       "1         195.5       254.4                13.7                       1   \n",
       "2         121.2       162.6                12.2                       0   \n",
       "3          61.9       196.9                 6.6                       2   \n",
       "4         148.3       186.9                10.1                       3   \n",
       "\n",
       "   international_plan  day_calls  day_charge  evening_calls  evening_charge  \\\n",
       "0                   0        110       45.07             99           16.78   \n",
       "1                   0        123       27.47            103           16.62   \n",
       "2                   0        114       41.38            110           10.30   \n",
       "3                   1         71       50.90             88            5.26   \n",
       "4                   1        113       28.34            122           12.61   \n",
       "\n",
       "   night_calls  night_charge  international_calls  international_charge  \\\n",
       "0           91         11.01                    3                  2.70   \n",
       "1          103         11.45                    3                  3.70   \n",
       "2          104          7.32                    5                  3.29   \n",
       "3           89          8.86                    7                  1.78   \n",
       "4          121          8.41                    3                  2.73   \n",
       "\n",
       "   total_charge  churn  \n",
       "0         75.56      0  \n",
       "1         59.24      0  \n",
       "2         62.29      0  \n",
       "3         66.80      0  \n",
       "4         52.09      0  "
      ]
     },
     "execution_count": 4,
     "metadata": {},
     "output_type": "execute_result"
    }
   ],
   "source": [
    "df1.head()"
   ]
  },
  {
   "cell_type": "markdown",
   "id": "c6e1ec27",
   "metadata": {},
   "source": [
    "# Automated EDA through different way\n",
    "### 1.pandas profiling"
   ]
  },
  {
   "cell_type": "code",
   "execution_count": 5,
   "id": "6544c936",
   "metadata": {},
   "outputs": [],
   "source": [
    "#!pip install pandas_profiling"
   ]
  },
  {
   "cell_type": "code",
   "execution_count": 6,
   "id": "d3844717",
   "metadata": {},
   "outputs": [],
   "source": [
    "#from pandas_profiling import ProfileReport"
   ]
  },
  {
   "cell_type": "code",
   "execution_count": 7,
   "id": "46e41f95",
   "metadata": {},
   "outputs": [],
   "source": [
    "#profile=ProfileReport(df1,explorative=True,dark_mode=True,title='churn_rate')"
   ]
  },
  {
   "cell_type": "code",
   "execution_count": 8,
   "id": "b3b9e06a",
   "metadata": {},
   "outputs": [],
   "source": [
    "#profile.to_file('output.html')"
   ]
  },
  {
   "cell_type": "markdown",
   "id": "5627bb00",
   "metadata": {},
   "source": [
    "### 2.dataprep"
   ]
  },
  {
   "cell_type": "code",
   "execution_count": 9,
   "id": "480562bc",
   "metadata": {},
   "outputs": [],
   "source": [
    "#!pip install dataprep"
   ]
  },
  {
   "cell_type": "code",
   "execution_count": 10,
   "id": "9cb6a20a",
   "metadata": {},
   "outputs": [],
   "source": [
    "#from dataprep.eda import create_report"
   ]
  },
  {
   "cell_type": "code",
   "execution_count": 11,
   "id": "24d61359",
   "metadata": {},
   "outputs": [],
   "source": [
    "#create_report(df1)"
   ]
  },
  {
   "cell_type": "markdown",
   "id": "35b00dcd",
   "metadata": {},
   "source": [
    "# Manual EDA"
   ]
  },
  {
   "cell_type": "code",
   "execution_count": 12,
   "id": "6d9ebbbc",
   "metadata": {},
   "outputs": [
    {
     "data": {
      "text/plain": [
       "Index(['account_length', 'voice_mail_plan', 'voice_mail_messages', 'day_mins',\n",
       "       'evening_mins', 'night_mins', 'international_mins',\n",
       "       'customer_service_calls', 'international_plan', 'day_calls',\n",
       "       'day_charge', 'evening_calls', 'evening_charge', 'night_calls',\n",
       "       'night_charge', 'international_calls', 'international_charge',\n",
       "       'total_charge', 'churn'],\n",
       "      dtype='object')"
      ]
     },
     "execution_count": 12,
     "metadata": {},
     "output_type": "execute_result"
    }
   ],
   "source": [
    "df1.columns"
   ]
  },
  {
   "cell_type": "code",
   "execution_count": 13,
   "id": "2d706e44",
   "metadata": {},
   "outputs": [
    {
     "data": {
      "text/plain": [
       "(3333, 19)"
      ]
     },
     "execution_count": 13,
     "metadata": {},
     "output_type": "execute_result"
    }
   ],
   "source": [
    "df1.shape"
   ]
  },
  {
   "cell_type": "code",
   "execution_count": 14,
   "id": "053a126e",
   "metadata": {},
   "outputs": [
    {
     "name": "stdout",
     "output_type": "stream",
     "text": [
      "<class 'pandas.core.frame.DataFrame'>\n",
      "RangeIndex: 3333 entries, 0 to 3332\n",
      "Data columns (total 19 columns):\n",
      " #   Column                  Non-Null Count  Dtype  \n",
      "---  ------                  --------------  -----  \n",
      " 0   account_length          3333 non-null   int64  \n",
      " 1   voice_mail_plan         3333 non-null   int64  \n",
      " 2   voice_mail_messages     3333 non-null   int64  \n",
      " 3   day_mins                3333 non-null   float64\n",
      " 4   evening_mins            3333 non-null   float64\n",
      " 5   night_mins              3333 non-null   float64\n",
      " 6   international_mins      3333 non-null   float64\n",
      " 7   customer_service_calls  3333 non-null   int64  \n",
      " 8   international_plan      3333 non-null   int64  \n",
      " 9   day_calls               3333 non-null   int64  \n",
      " 10  day_charge              3333 non-null   float64\n",
      " 11  evening_calls           3333 non-null   int64  \n",
      " 12  evening_charge          3333 non-null   float64\n",
      " 13  night_calls             3333 non-null   int64  \n",
      " 14  night_charge            3333 non-null   float64\n",
      " 15  international_calls     3333 non-null   int64  \n",
      " 16  international_charge    3333 non-null   float64\n",
      " 17  total_charge            3333 non-null   float64\n",
      " 18  churn                   3333 non-null   int64  \n",
      "dtypes: float64(9), int64(10)\n",
      "memory usage: 494.9 KB\n"
     ]
    }
   ],
   "source": [
    "df1.info()"
   ]
  },
  {
   "cell_type": "code",
   "execution_count": 15,
   "id": "eda6e271",
   "metadata": {},
   "outputs": [
    {
     "data": {
      "text/html": [
       "<div>\n",
       "<style scoped>\n",
       "    .dataframe tbody tr th:only-of-type {\n",
       "        vertical-align: middle;\n",
       "    }\n",
       "\n",
       "    .dataframe tbody tr th {\n",
       "        vertical-align: top;\n",
       "    }\n",
       "\n",
       "    .dataframe thead th {\n",
       "        text-align: right;\n",
       "    }\n",
       "</style>\n",
       "<table border=\"1\" class=\"dataframe\">\n",
       "  <thead>\n",
       "    <tr style=\"text-align: right;\">\n",
       "      <th></th>\n",
       "      <th>account_length</th>\n",
       "      <th>voice_mail_plan</th>\n",
       "      <th>voice_mail_messages</th>\n",
       "      <th>day_mins</th>\n",
       "      <th>evening_mins</th>\n",
       "      <th>night_mins</th>\n",
       "      <th>international_mins</th>\n",
       "      <th>customer_service_calls</th>\n",
       "      <th>international_plan</th>\n",
       "      <th>day_calls</th>\n",
       "      <th>day_charge</th>\n",
       "      <th>evening_calls</th>\n",
       "      <th>evening_charge</th>\n",
       "      <th>night_calls</th>\n",
       "      <th>night_charge</th>\n",
       "      <th>international_calls</th>\n",
       "      <th>international_charge</th>\n",
       "      <th>total_charge</th>\n",
       "      <th>churn</th>\n",
       "    </tr>\n",
       "  </thead>\n",
       "  <tbody>\n",
       "    <tr>\n",
       "      <th>count</th>\n",
       "      <td>3333.000000</td>\n",
       "      <td>3333.000000</td>\n",
       "      <td>3333.000000</td>\n",
       "      <td>3333.000000</td>\n",
       "      <td>3333.000000</td>\n",
       "      <td>3333.000000</td>\n",
       "      <td>3333.000000</td>\n",
       "      <td>3333.000000</td>\n",
       "      <td>3333.000000</td>\n",
       "      <td>3333.000000</td>\n",
       "      <td>3333.000000</td>\n",
       "      <td>3333.000000</td>\n",
       "      <td>3333.000000</td>\n",
       "      <td>3333.000000</td>\n",
       "      <td>3333.000000</td>\n",
       "      <td>3333.000000</td>\n",
       "      <td>3333.000000</td>\n",
       "      <td>3333.000000</td>\n",
       "      <td>3333.000000</td>\n",
       "    </tr>\n",
       "    <tr>\n",
       "      <th>mean</th>\n",
       "      <td>101.064806</td>\n",
       "      <td>0.276628</td>\n",
       "      <td>8.099010</td>\n",
       "      <td>179.775098</td>\n",
       "      <td>200.980348</td>\n",
       "      <td>200.872037</td>\n",
       "      <td>10.237294</td>\n",
       "      <td>1.562856</td>\n",
       "      <td>0.096910</td>\n",
       "      <td>100.435644</td>\n",
       "      <td>30.562307</td>\n",
       "      <td>100.114311</td>\n",
       "      <td>17.083540</td>\n",
       "      <td>100.107711</td>\n",
       "      <td>9.039325</td>\n",
       "      <td>4.479448</td>\n",
       "      <td>2.764581</td>\n",
       "      <td>59.449754</td>\n",
       "      <td>0.144914</td>\n",
       "    </tr>\n",
       "    <tr>\n",
       "      <th>std</th>\n",
       "      <td>39.822106</td>\n",
       "      <td>0.447398</td>\n",
       "      <td>13.688365</td>\n",
       "      <td>54.467389</td>\n",
       "      <td>50.713844</td>\n",
       "      <td>50.573847</td>\n",
       "      <td>2.791840</td>\n",
       "      <td>1.315491</td>\n",
       "      <td>0.295879</td>\n",
       "      <td>20.069084</td>\n",
       "      <td>9.259435</td>\n",
       "      <td>19.922625</td>\n",
       "      <td>4.310668</td>\n",
       "      <td>19.568609</td>\n",
       "      <td>2.275873</td>\n",
       "      <td>2.461214</td>\n",
       "      <td>0.753773</td>\n",
       "      <td>10.502261</td>\n",
       "      <td>0.352067</td>\n",
       "    </tr>\n",
       "    <tr>\n",
       "      <th>min</th>\n",
       "      <td>1.000000</td>\n",
       "      <td>0.000000</td>\n",
       "      <td>0.000000</td>\n",
       "      <td>0.000000</td>\n",
       "      <td>0.000000</td>\n",
       "      <td>23.200000</td>\n",
       "      <td>0.000000</td>\n",
       "      <td>0.000000</td>\n",
       "      <td>0.000000</td>\n",
       "      <td>0.000000</td>\n",
       "      <td>0.000000</td>\n",
       "      <td>0.000000</td>\n",
       "      <td>0.000000</td>\n",
       "      <td>33.000000</td>\n",
       "      <td>1.040000</td>\n",
       "      <td>0.000000</td>\n",
       "      <td>0.000000</td>\n",
       "      <td>22.930000</td>\n",
       "      <td>0.000000</td>\n",
       "    </tr>\n",
       "    <tr>\n",
       "      <th>25%</th>\n",
       "      <td>74.000000</td>\n",
       "      <td>0.000000</td>\n",
       "      <td>0.000000</td>\n",
       "      <td>143.700000</td>\n",
       "      <td>166.600000</td>\n",
       "      <td>167.000000</td>\n",
       "      <td>8.500000</td>\n",
       "      <td>1.000000</td>\n",
       "      <td>0.000000</td>\n",
       "      <td>87.000000</td>\n",
       "      <td>24.430000</td>\n",
       "      <td>87.000000</td>\n",
       "      <td>14.160000</td>\n",
       "      <td>87.000000</td>\n",
       "      <td>7.520000</td>\n",
       "      <td>3.000000</td>\n",
       "      <td>2.300000</td>\n",
       "      <td>52.380000</td>\n",
       "      <td>0.000000</td>\n",
       "    </tr>\n",
       "    <tr>\n",
       "      <th>50%</th>\n",
       "      <td>101.000000</td>\n",
       "      <td>0.000000</td>\n",
       "      <td>0.000000</td>\n",
       "      <td>179.400000</td>\n",
       "      <td>201.400000</td>\n",
       "      <td>201.200000</td>\n",
       "      <td>10.300000</td>\n",
       "      <td>1.000000</td>\n",
       "      <td>0.000000</td>\n",
       "      <td>101.000000</td>\n",
       "      <td>30.500000</td>\n",
       "      <td>100.000000</td>\n",
       "      <td>17.120000</td>\n",
       "      <td>100.000000</td>\n",
       "      <td>9.050000</td>\n",
       "      <td>4.000000</td>\n",
       "      <td>2.780000</td>\n",
       "      <td>59.470000</td>\n",
       "      <td>0.000000</td>\n",
       "    </tr>\n",
       "    <tr>\n",
       "      <th>75%</th>\n",
       "      <td>127.000000</td>\n",
       "      <td>1.000000</td>\n",
       "      <td>20.000000</td>\n",
       "      <td>216.400000</td>\n",
       "      <td>235.300000</td>\n",
       "      <td>235.300000</td>\n",
       "      <td>12.100000</td>\n",
       "      <td>2.000000</td>\n",
       "      <td>0.000000</td>\n",
       "      <td>114.000000</td>\n",
       "      <td>36.790000</td>\n",
       "      <td>114.000000</td>\n",
       "      <td>20.000000</td>\n",
       "      <td>113.000000</td>\n",
       "      <td>10.590000</td>\n",
       "      <td>6.000000</td>\n",
       "      <td>3.270000</td>\n",
       "      <td>66.480000</td>\n",
       "      <td>0.000000</td>\n",
       "    </tr>\n",
       "    <tr>\n",
       "      <th>max</th>\n",
       "      <td>243.000000</td>\n",
       "      <td>1.000000</td>\n",
       "      <td>51.000000</td>\n",
       "      <td>350.800000</td>\n",
       "      <td>363.700000</td>\n",
       "      <td>395.000000</td>\n",
       "      <td>20.000000</td>\n",
       "      <td>9.000000</td>\n",
       "      <td>1.000000</td>\n",
       "      <td>165.000000</td>\n",
       "      <td>59.640000</td>\n",
       "      <td>170.000000</td>\n",
       "      <td>30.910000</td>\n",
       "      <td>175.000000</td>\n",
       "      <td>17.770000</td>\n",
       "      <td>20.000000</td>\n",
       "      <td>5.400000</td>\n",
       "      <td>96.150000</td>\n",
       "      <td>1.000000</td>\n",
       "    </tr>\n",
       "  </tbody>\n",
       "</table>\n",
       "</div>"
      ],
      "text/plain": [
       "       account_length  voice_mail_plan  voice_mail_messages     day_mins  \\\n",
       "count     3333.000000      3333.000000          3333.000000  3333.000000   \n",
       "mean       101.064806         0.276628             8.099010   179.775098   \n",
       "std         39.822106         0.447398            13.688365    54.467389   \n",
       "min          1.000000         0.000000             0.000000     0.000000   \n",
       "25%         74.000000         0.000000             0.000000   143.700000   \n",
       "50%        101.000000         0.000000             0.000000   179.400000   \n",
       "75%        127.000000         1.000000            20.000000   216.400000   \n",
       "max        243.000000         1.000000            51.000000   350.800000   \n",
       "\n",
       "       evening_mins   night_mins  international_mins  customer_service_calls  \\\n",
       "count   3333.000000  3333.000000         3333.000000             3333.000000   \n",
       "mean     200.980348   200.872037           10.237294                1.562856   \n",
       "std       50.713844    50.573847            2.791840                1.315491   \n",
       "min        0.000000    23.200000            0.000000                0.000000   \n",
       "25%      166.600000   167.000000            8.500000                1.000000   \n",
       "50%      201.400000   201.200000           10.300000                1.000000   \n",
       "75%      235.300000   235.300000           12.100000                2.000000   \n",
       "max      363.700000   395.000000           20.000000                9.000000   \n",
       "\n",
       "       international_plan    day_calls   day_charge  evening_calls  \\\n",
       "count         3333.000000  3333.000000  3333.000000    3333.000000   \n",
       "mean             0.096910   100.435644    30.562307     100.114311   \n",
       "std              0.295879    20.069084     9.259435      19.922625   \n",
       "min              0.000000     0.000000     0.000000       0.000000   \n",
       "25%              0.000000    87.000000    24.430000      87.000000   \n",
       "50%              0.000000   101.000000    30.500000     100.000000   \n",
       "75%              0.000000   114.000000    36.790000     114.000000   \n",
       "max              1.000000   165.000000    59.640000     170.000000   \n",
       "\n",
       "       evening_charge  night_calls  night_charge  international_calls  \\\n",
       "count     3333.000000  3333.000000   3333.000000          3333.000000   \n",
       "mean        17.083540   100.107711      9.039325             4.479448   \n",
       "std          4.310668    19.568609      2.275873             2.461214   \n",
       "min          0.000000    33.000000      1.040000             0.000000   \n",
       "25%         14.160000    87.000000      7.520000             3.000000   \n",
       "50%         17.120000   100.000000      9.050000             4.000000   \n",
       "75%         20.000000   113.000000     10.590000             6.000000   \n",
       "max         30.910000   175.000000     17.770000            20.000000   \n",
       "\n",
       "       international_charge  total_charge        churn  \n",
       "count           3333.000000   3333.000000  3333.000000  \n",
       "mean               2.764581     59.449754     0.144914  \n",
       "std                0.753773     10.502261     0.352067  \n",
       "min                0.000000     22.930000     0.000000  \n",
       "25%                2.300000     52.380000     0.000000  \n",
       "50%                2.780000     59.470000     0.000000  \n",
       "75%                3.270000     66.480000     0.000000  \n",
       "max                5.400000     96.150000     1.000000  "
      ]
     },
     "execution_count": 15,
     "metadata": {},
     "output_type": "execute_result"
    }
   ],
   "source": [
    "df1.describe()"
   ]
  },
  {
   "cell_type": "code",
   "execution_count": 16,
   "id": "a28cd5ca",
   "metadata": {},
   "outputs": [
    {
     "data": {
      "text/plain": [
       "0"
      ]
     },
     "execution_count": 16,
     "metadata": {},
     "output_type": "execute_result"
    }
   ],
   "source": [
    "len(df1[df1.duplicated()])"
   ]
  },
  {
   "cell_type": "code",
   "execution_count": 17,
   "id": "e330a2f5",
   "metadata": {},
   "outputs": [
    {
     "name": "stdout",
     "output_type": "stream",
     "text": [
      "0    2850\n",
      "1     483\n",
      "Name: churn, dtype: int64\n"
     ]
    }
   ],
   "source": [
    "print(df1.churn.value_counts())"
   ]
  },
  {
   "cell_type": "code",
   "execution_count": 18,
   "id": "d1f9ec74",
   "metadata": {},
   "outputs": [],
   "source": [
    "import seaborn as sns"
   ]
  },
  {
   "cell_type": "code",
   "execution_count": 19,
   "id": "32839c7d",
   "metadata": {},
   "outputs": [
    {
     "data": {
      "text/plain": [
       "<AxesSubplot:xlabel='churn', ylabel='count'>"
      ]
     },
     "execution_count": 19,
     "metadata": {},
     "output_type": "execute_result"
    },
    {
     "data": {
      "image/png": "[encoded data removed]",
      "text/plain": [
       "<Figure size 432x288 with 1 Axes>"
      ]
     },
     "metadata": {
      "needs_background": "light"
     },
     "output_type": "display_data"
    }
   ],
   "source": [
    "sns.countplot(x=df1.churn)"
   ]
  },
  {
   "cell_type": "markdown",
   "id": "3995af0b",
   "metadata": {},
   "source": [
    "### (1-Churn, 0-No Churn)"
   ]
  },
  {
   "cell_type": "markdown",
   "id": "d4e33b50",
   "metadata": {},
   "source": [
    "# PIE-PLOT"
   ]
  },
  {
   "cell_type": "code",
   "execution_count": 20,
   "id": "ca5d0e95",
   "metadata": {},
   "outputs": [
    {
     "data": {
      "image/png": "[encoded data removed]",
      "text/plain": [
       "<Figure size 576x576 with 1 Axes>"
      ]
     },
     "metadata": {},
     "output_type": "display_data"
    }
   ],
   "source": [
    "df1 ['churn'].value_counts().plot.pie(startangle=90,autopct='%1.1f%%',explode=[0.05,0.05],figsize=(8,8),shadow=True)\n",
    "plt.title('Pie Chart for Churn')\n",
    "plt.show()"
   ]
  },
  {
   "cell_type": "markdown",
   "id": "ff7eceb2",
   "metadata": {},
   "source": [
    "# correlation matrix/heatmap"
   ]
  },
  {
   "cell_type": "code",
   "execution_count": 21,
   "id": "2b2fe519",
   "metadata": {},
   "outputs": [
    {
     "data": {
      "text/plain": [
       "<AxesSubplot:>"
      ]
     },
     "execution_count": 21,
     "metadata": {},
     "output_type": "execute_result"
    },
    {
     "data": {
      "image/png": "[encoded data removed]",
      "text/plain": [
       "<Figure size 1224x576 with 2 Axes>"
      ]
     },
     "metadata": {
      "needs_background": "light"
     },
     "output_type": "display_data"
    }
   ],
   "source": [
    "plt.figure(figsize=(17,8))\n",
    "correlation=df1.corr()\n",
    "sns.heatmap(abs(correlation), annot=True)"
   ]
  },
  {
   "cell_type": "code",
   "execution_count": 22,
   "id": "9bc2f44e",
   "metadata": {},
   "outputs": [],
   "source": [
    "X=df1.drop('churn',axis=1)\n",
    "Y=df1.churn"
   ]
  },
  {
   "cell_type": "code",
   "execution_count": 23,
   "id": "449f99a6",
   "metadata": {},
   "outputs": [
    {
     "data": {
      "text/html": [
       "<div>\n",
       "<style scoped>\n",
       "    .dataframe tbody tr th:only-of-type {\n",
       "        vertical-align: middle;\n",
       "    }\n",
       "\n",
       "    .dataframe tbody tr th {\n",
       "        vertical-align: top;\n",
       "    }\n",
       "\n",
       "    .dataframe thead th {\n",
       "        text-align: right;\n",
       "    }\n",
       "</style>\n",
       "<table border=\"1\" class=\"dataframe\">\n",
       "  <thead>\n",
       "    <tr style=\"text-align: right;\">\n",
       "      <th></th>\n",
       "      <th>account_length</th>\n",
       "      <th>voice_mail_plan</th>\n",
       "      <th>voice_mail_messages</th>\n",
       "      <th>day_mins</th>\n",
       "      <th>evening_mins</th>\n",
       "      <th>night_mins</th>\n",
       "      <th>international_mins</th>\n",
       "      <th>customer_service_calls</th>\n",
       "      <th>international_plan</th>\n",
       "      <th>day_calls</th>\n",
       "      <th>day_charge</th>\n",
       "      <th>evening_calls</th>\n",
       "      <th>evening_charge</th>\n",
       "      <th>night_calls</th>\n",
       "      <th>night_charge</th>\n",
       "      <th>international_calls</th>\n",
       "      <th>international_charge</th>\n",
       "      <th>total_charge</th>\n",
       "    </tr>\n",
       "  </thead>\n",
       "  <tbody>\n",
       "    <tr>\n",
       "      <th>0</th>\n",
       "      <td>128</td>\n",
       "      <td>1</td>\n",
       "      <td>25</td>\n",
       "      <td>265.1</td>\n",
       "      <td>197.4</td>\n",
       "      <td>244.7</td>\n",
       "      <td>10.0</td>\n",
       "      <td>1</td>\n",
       "      <td>0</td>\n",
       "      <td>110</td>\n",
       "      <td>45.07</td>\n",
       "      <td>99</td>\n",
       "      <td>16.78</td>\n",
       "      <td>91</td>\n",
       "      <td>11.01</td>\n",
       "      <td>3</td>\n",
       "      <td>2.70</td>\n",
       "      <td>75.56</td>\n",
       "    </tr>\n",
       "    <tr>\n",
       "      <th>1</th>\n",
       "      <td>107</td>\n",
       "      <td>1</td>\n",
       "      <td>26</td>\n",
       "      <td>161.6</td>\n",
       "      <td>195.5</td>\n",
       "      <td>254.4</td>\n",
       "      <td>13.7</td>\n",
       "      <td>1</td>\n",
       "      <td>0</td>\n",
       "      <td>123</td>\n",
       "      <td>27.47</td>\n",
       "      <td>103</td>\n",
       "      <td>16.62</td>\n",
       "      <td>103</td>\n",
       "      <td>11.45</td>\n",
       "      <td>3</td>\n",
       "      <td>3.70</td>\n",
       "      <td>59.24</td>\n",
       "    </tr>\n",
       "    <tr>\n",
       "      <th>2</th>\n",
       "      <td>137</td>\n",
       "      <td>0</td>\n",
       "      <td>0</td>\n",
       "      <td>243.4</td>\n",
       "      <td>121.2</td>\n",
       "      <td>162.6</td>\n",
       "      <td>12.2</td>\n",
       "      <td>0</td>\n",
       "      <td>0</td>\n",
       "      <td>114</td>\n",
       "      <td>41.38</td>\n",
       "      <td>110</td>\n",
       "      <td>10.30</td>\n",
       "      <td>104</td>\n",
       "      <td>7.32</td>\n",
       "      <td>5</td>\n",
       "      <td>3.29</td>\n",
       "      <td>62.29</td>\n",
       "    </tr>\n",
       "    <tr>\n",
       "      <th>3</th>\n",
       "      <td>84</td>\n",
       "      <td>0</td>\n",
       "      <td>0</td>\n",
       "      <td>299.4</td>\n",
       "      <td>61.9</td>\n",
       "      <td>196.9</td>\n",
       "      <td>6.6</td>\n",
       "      <td>2</td>\n",
       "      <td>1</td>\n",
       "      <td>71</td>\n",
       "      <td>50.90</td>\n",
       "      <td>88</td>\n",
       "      <td>5.26</td>\n",
       "      <td>89</td>\n",
       "      <td>8.86</td>\n",
       "      <td>7</td>\n",
       "      <td>1.78</td>\n",
       "      <td>66.80</td>\n",
       "    </tr>\n",
       "    <tr>\n",
       "      <th>4</th>\n",
       "      <td>75</td>\n",
       "      <td>0</td>\n",
       "      <td>0</td>\n",
       "      <td>166.7</td>\n",
       "      <td>148.3</td>\n",
       "      <td>186.9</td>\n",
       "      <td>10.1</td>\n",
       "      <td>3</td>\n",
       "      <td>1</td>\n",
       "      <td>113</td>\n",
       "      <td>28.34</td>\n",
       "      <td>122</td>\n",
       "      <td>12.61</td>\n",
       "      <td>121</td>\n",
       "      <td>8.41</td>\n",
       "      <td>3</td>\n",
       "      <td>2.73</td>\n",
       "      <td>52.09</td>\n",
       "    </tr>\n",
       "  </tbody>\n",
       "</table>\n",
       "</div>"
      ],
      "text/plain": [
       "   account_length  voice_mail_plan  voice_mail_messages  day_mins  \\\n",
       "0             128                1                   25     265.1   \n",
       "1             107                1                   26     161.6   \n",
       "2             137                0                    0     243.4   \n",
       "3              84                0                    0     299.4   \n",
       "4              75                0                    0     166.7   \n",
       "\n",
       "   evening_mins  night_mins  international_mins  customer_service_calls  \\\n",
       "0         197.4       244.7                10.0                       1   \n",
       "1         195.5       254.4                13.7                       1   \n",
       "2         121.2       162.6                12.2                       0   \n",
       "3          61.9       196.9                 6.6                       2   \n",
       "4         148.3       186.9                10.1                       3   \n",
       "\n",
       "   international_plan  day_calls  day_charge  evening_calls  evening_charge  \\\n",
       "0                   0        110       45.07             99           16.78   \n",
       "1                   0        123       27.47            103           16.62   \n",
       "2                   0        114       41.38            110           10.30   \n",
       "3                   1         71       50.90             88            5.26   \n",
       "4                   1        113       28.34            122           12.61   \n",
       "\n",
       "   night_calls  night_charge  international_calls  international_charge  \\\n",
       "0           91         11.01                    3                  2.70   \n",
       "1          103         11.45                    3                  3.70   \n",
       "2          104          7.32                    5                  3.29   \n",
       "3           89          8.86                    7                  1.78   \n",
       "4          121          8.41                    3                  2.73   \n",
       "\n",
       "   total_charge  \n",
       "0         75.56  \n",
       "1         59.24  \n",
       "2         62.29  \n",
       "3         66.80  \n",
       "4         52.09  "
      ]
     },
     "execution_count": 23,
     "metadata": {},
     "output_type": "execute_result"
    }
   ],
   "source": [
    "X.head()"
   ]
  },
  {
   "cell_type": "code",
   "execution_count": 24,
   "id": "ba867faa",
   "metadata": {},
   "outputs": [
    {
     "data": {
      "text/plain": [
       "0    0\n",
       "1    0\n",
       "2    0\n",
       "3    0\n",
       "4    0\n",
       "Name: churn, dtype: int64"
      ]
     },
     "execution_count": 24,
     "metadata": {},
     "output_type": "execute_result"
    }
   ],
   "source": [
    "Y.head()"
   ]
  },
  {
   "cell_type": "code",
   "execution_count": 25,
   "id": "310f7ea6",
   "metadata": {},
   "outputs": [],
   "source": [
    "from sklearn.model_selection import train_test_split"
   ]
  },
  {
   "cell_type": "code",
   "execution_count": 26,
   "id": "09fd6c8c",
   "metadata": {},
   "outputs": [],
   "source": [
    "x_train,x_test,y_train,y_test=train_test_split(X,Y,test_size=0.30,random_state=0)"
   ]
  },
  {
   "cell_type": "code",
   "execution_count": 27,
   "id": "336514b1",
   "metadata": {},
   "outputs": [],
   "source": [
    "from sklearn.preprocessing import StandardScaler"
   ]
  },
  {
   "cell_type": "code",
   "execution_count": 28,
   "id": "0542965e",
   "metadata": {},
   "outputs": [],
   "source": [
    "train_scaler=StandardScaler()"
   ]
  },
  {
   "cell_type": "code",
   "execution_count": 29,
   "id": "612572eb",
   "metadata": {},
   "outputs": [],
   "source": [
    "test_scaler=StandardScaler()"
   ]
  },
  {
   "cell_type": "code",
   "execution_count": 30,
   "id": "74c66e26",
   "metadata": {},
   "outputs": [],
   "source": [
    "x_train=train_scaler.fit_transform(x_train)"
   ]
  },
  {
   "cell_type": "code",
   "execution_count": 31,
   "id": "f76574c4",
   "metadata": {},
   "outputs": [],
   "source": [
    "x_test=test_scaler.fit_transform(x_test)"
   ]
  },
  {
   "cell_type": "code",
   "execution_count": 32,
   "id": "8de82b76",
   "metadata": {
    "scrolled": true
   },
   "outputs": [
    {
     "data": {
      "text/plain": [
       "array([[-1.0660133 , -0.62477648, -0.59736525, ..., -1.81801012,\n",
       "        -3.66027184,  0.0864811 ],\n",
       "       [-1.24079432,  1.60057242,  0.28158769, ...,  1.01824545,\n",
       "         0.72344491, -0.70476974],\n",
       "       [-0.34192052, -0.62477648, -0.59736525, ..., -0.19729265,\n",
       "         2.25510498,  0.05323527],\n",
       "       ...,\n",
       "       [-0.19210822, -0.62477648, -0.59736525, ..., -1.00765139,\n",
       "         0.30091799, -0.80925665],\n",
       "       [-0.24204565, -0.62477648, -0.59736525, ..., -0.60247202,\n",
       "        -0.13481289, -0.02940437],\n",
       "       [ 0.73173431, -0.62477648, -0.59736525, ..., -1.00765139,\n",
       "         2.3607367 ,  1.74592315]])"
      ]
     },
     "execution_count": 32,
     "metadata": {},
     "output_type": "execute_result"
    }
   ],
   "source": [
    "x_train"
   ]
  },
  {
   "cell_type": "code",
   "execution_count": 33,
   "id": "31f67af9",
   "metadata": {
    "scrolled": true
   },
   "outputs": [
    {
     "data": {
      "text/plain": [
       "array([[-0.25298586, -0.60353664, -0.57884072, ...,  0.22014162,\n",
       "        -0.31830791,  1.03691815],\n",
       "       [ 0.25655263,  1.65690022,  2.03673176, ..., -0.59822872,\n",
       "        -0.06316742, -1.51710048],\n",
       "       [-0.83895513, -0.60353664, -0.57884072, ..., -0.18904355,\n",
       "         0.84996699,  0.71491054],\n",
       "       ...,\n",
       "       [-0.17655509, -0.60353664, -0.57884072, ..., -1.00741389,\n",
       "        -0.17059499,  0.54815661],\n",
       "       [-1.3230167 ,  1.65690022,  1.16487427, ..., -0.18904355,\n",
       "         0.15168774,  1.79593607],\n",
       "       [-0.91538591,  1.65690022,  1.52814823, ..., -1.41659906,\n",
       "        -0.78830356,  1.36275917]])"
      ]
     },
     "execution_count": 33,
     "metadata": {},
     "output_type": "execute_result"
    }
   ],
   "source": [
    "x_test"
   ]
  },
  {
   "cell_type": "code",
   "execution_count": 34,
   "id": "1adf8c3f",
   "metadata": {},
   "outputs": [],
   "source": [
    "#featute selection"
   ]
  },
  {
   "cell_type": "code",
   "execution_count": 35,
   "id": "782a9f51",
   "metadata": {},
   "outputs": [],
   "source": [
    "from sklearn.feature_selection import SelectKBest\n",
    "from sklearn.feature_selection import chi2   "
   ]
  },
  {
   "cell_type": "code",
   "execution_count": 36,
   "id": "b46a8409",
   "metadata": {},
   "outputs": [],
   "source": [
    "ordered_rank_features=SelectKBest(score_func=chi2,k=18)\n",
    "ordered_features=ordered_rank_features.fit(X,Y)    "
   ]
  },
  {
   "cell_type": "code",
   "execution_count": 37,
   "id": "75fa55f7",
   "metadata": {},
   "outputs": [
    {
     "data": {
      "text/plain": [
       "array([1.43041969e+01, 2.51569590e+01, 6.20628799e+02, 2.31416931e+03,\n",
       "       3.67164781e+02, 5.34465062e+01, 1.18130812e+01, 1.60773588e+02,\n",
       "       2.03244178e+02, 4.55305859e+00, 3.93399658e+02, 1.12615986e+00,\n",
       "       3.12019307e+01, 4.80689125e-01, 2.40554205e+00, 1.25827693e+01,\n",
       "       3.19059341e+00, 3.31440144e+02])"
      ]
     },
     "execution_count": 37,
     "metadata": {},
     "output_type": "execute_result"
    }
   ],
   "source": [
    "ordered_features.scores_"
   ]
  },
  {
   "cell_type": "code",
   "execution_count": 38,
   "id": "7cff5550",
   "metadata": {},
   "outputs": [],
   "source": [
    "dfscores=pd.DataFrame(ordered_features.scores_,columns=['scores'])\n",
    "dfcolumns=pd.DataFrame(X.columns)"
   ]
  },
  {
   "cell_type": "code",
   "execution_count": 39,
   "id": "3fd9114d",
   "metadata": {},
   "outputs": [],
   "source": [
    "features_rank=pd.concat([dfcolumns,dfscores],axis=1)"
   ]
  },
  {
   "cell_type": "code",
   "execution_count": 40,
   "id": "18cb7933",
   "metadata": {},
   "outputs": [],
   "source": [
    "features_rank.columns=['features','scores']"
   ]
  },
  {
   "cell_type": "code",
   "execution_count": 41,
   "id": "47c51ff9",
   "metadata": {},
   "outputs": [
    {
     "data": {
      "text/html": [
       "<div>\n",
       "<style scoped>\n",
       "    .dataframe tbody tr th:only-of-type {\n",
       "        vertical-align: middle;\n",
       "    }\n",
       "\n",
       "    .dataframe tbody tr th {\n",
       "        vertical-align: top;\n",
       "    }\n",
       "\n",
       "    .dataframe thead th {\n",
       "        text-align: right;\n",
       "    }\n",
       "</style>\n",
       "<table border=\"1\" class=\"dataframe\">\n",
       "  <thead>\n",
       "    <tr style=\"text-align: right;\">\n",
       "      <th></th>\n",
       "      <th>features</th>\n",
       "      <th>scores</th>\n",
       "    </tr>\n",
       "  </thead>\n",
       "  <tbody>\n",
       "    <tr>\n",
       "      <th>3</th>\n",
       "      <td>day_mins</td>\n",
       "      <td>2314.169315</td>\n",
       "    </tr>\n",
       "    <tr>\n",
       "      <th>2</th>\n",
       "      <td>voice_mail_messages</td>\n",
       "      <td>620.628799</td>\n",
       "    </tr>\n",
       "    <tr>\n",
       "      <th>10</th>\n",
       "      <td>day_charge</td>\n",
       "      <td>393.399658</td>\n",
       "    </tr>\n",
       "    <tr>\n",
       "      <th>4</th>\n",
       "      <td>evening_mins</td>\n",
       "      <td>367.164781</td>\n",
       "    </tr>\n",
       "    <tr>\n",
       "      <th>17</th>\n",
       "      <td>total_charge</td>\n",
       "      <td>331.440144</td>\n",
       "    </tr>\n",
       "    <tr>\n",
       "      <th>8</th>\n",
       "      <td>international_plan</td>\n",
       "      <td>203.244178</td>\n",
       "    </tr>\n",
       "    <tr>\n",
       "      <th>7</th>\n",
       "      <td>customer_service_calls</td>\n",
       "      <td>160.773588</td>\n",
       "    </tr>\n",
       "    <tr>\n",
       "      <th>5</th>\n",
       "      <td>night_mins</td>\n",
       "      <td>53.446506</td>\n",
       "    </tr>\n",
       "    <tr>\n",
       "      <th>12</th>\n",
       "      <td>evening_charge</td>\n",
       "      <td>31.201931</td>\n",
       "    </tr>\n",
       "    <tr>\n",
       "      <th>1</th>\n",
       "      <td>voice_mail_plan</td>\n",
       "      <td>25.156959</td>\n",
       "    </tr>\n",
       "  </tbody>\n",
       "</table>\n",
       "</div>"
      ],
      "text/plain": [
       "                  features       scores\n",
       "3                 day_mins  2314.169315\n",
       "2      voice_mail_messages   620.628799\n",
       "10              day_charge   393.399658\n",
       "4             evening_mins   367.164781\n",
       "17            total_charge   331.440144\n",
       "8       international_plan   203.244178\n",
       "7   customer_service_calls   160.773588\n",
       "5               night_mins    53.446506\n",
       "12          evening_charge    31.201931\n",
       "1          voice_mail_plan    25.156959"
      ]
     },
     "execution_count": 41,
     "metadata": {},
     "output_type": "execute_result"
    }
   ],
   "source": [
    "features_rank.nlargest(10,'scores')"
   ]
  },
  {
   "cell_type": "code",
   "execution_count": 42,
   "id": "a5ebde18",
   "metadata": {},
   "outputs": [],
   "source": [
    "import seaborn as sns"
   ]
  },
  {
   "cell_type": "code",
   "execution_count": 43,
   "id": "fac8faf9",
   "metadata": {},
   "outputs": [],
   "source": [
    "corr=df1.iloc[:,:-1].corr()\n",
    "top_features=corr.index"
   ]
  },
  {
   "cell_type": "code",
   "execution_count": 44,
   "id": "bf8e9419",
   "metadata": {
    "scrolled": false
   },
   "outputs": [
    {
     "data": {
      "text/plain": [
       "<AxesSubplot:>"
      ]
     },
     "execution_count": 44,
     "metadata": {},
     "output_type": "execute_result"
    },
    {
     "data": {
      "image/png": "[encoded data removed]",
      "text/plain": [
       "<Figure size 1440x720 with 2 Axes>"
      ]
     },
     "metadata": {
      "needs_background": "light"
     },
     "output_type": "display_data"
    }
   ],
   "source": [
    "plt.figure(figsize=(20,10))\n",
    "sns.heatmap(df1[top_features].corr(),annot=True)"
   ]
  },
  {
   "cell_type": "code",
   "execution_count": 45,
   "id": "abbcd7ff",
   "metadata": {},
   "outputs": [],
   "source": [
    "threshold=0.9"
   ]
  },
  {
   "cell_type": "code",
   "execution_count": 46,
   "id": "d0759799",
   "metadata": {},
   "outputs": [],
   "source": [
    "def corr(dataset,threshold):\n",
    "    col_corr=set()\n",
    "    corr_matrix=dataset.corr()\n",
    "    for i in range(len(corr_matrix.columns)):\n",
    "        for j in range(i):\n",
    "            if abs(corr_matrix.iloc[i,j])>threshold:\n",
    "                colname=corr_matrix.columns[i]#getting the name of column\n",
    "                col_corr.add(colname)\n",
    "    return col_corr"
   ]
  },
  {
   "cell_type": "code",
   "execution_count": 47,
   "id": "7dacf41d",
   "metadata": {},
   "outputs": [
    {
     "data": {
      "text/plain": [
       "{'day_charge',\n",
       " 'evening_charge',\n",
       " 'international_charge',\n",
       " 'night_charge',\n",
       " 'voice_mail_messages'}"
      ]
     },
     "execution_count": 47,
     "metadata": {},
     "output_type": "execute_result"
    }
   ],
   "source": [
    "corr_featues=corr(df1,threshold)\n",
    "corr_featues"
   ]
  },
  {
   "cell_type": "code",
   "execution_count": 48,
   "id": "ff4448f1",
   "metadata": {},
   "outputs": [],
   "source": [
    "new_df=df1.drop(corr_featues,axis=1)"
   ]
  },
  {
   "cell_type": "code",
   "execution_count": 49,
   "id": "2ab09762",
   "metadata": {},
   "outputs": [
    {
     "data": {
      "text/html": [
       "<div>\n",
       "<style scoped>\n",
       "    .dataframe tbody tr th:only-of-type {\n",
       "        vertical-align: middle;\n",
       "    }\n",
       "\n",
       "    .dataframe tbody tr th {\n",
       "        vertical-align: top;\n",
       "    }\n",
       "\n",
       "    .dataframe thead th {\n",
       "        text-align: right;\n",
       "    }\n",
       "</style>\n",
       "<table border=\"1\" class=\"dataframe\">\n",
       "  <thead>\n",
       "    <tr style=\"text-align: right;\">\n",
       "      <th></th>\n",
       "      <th>account_length</th>\n",
       "      <th>voice_mail_plan</th>\n",
       "      <th>day_mins</th>\n",
       "      <th>evening_mins</th>\n",
       "      <th>night_mins</th>\n",
       "      <th>international_mins</th>\n",
       "      <th>customer_service_calls</th>\n",
       "      <th>international_plan</th>\n",
       "      <th>day_calls</th>\n",
       "      <th>evening_calls</th>\n",
       "      <th>night_calls</th>\n",
       "      <th>international_calls</th>\n",
       "      <th>total_charge</th>\n",
       "      <th>churn</th>\n",
       "    </tr>\n",
       "  </thead>\n",
       "  <tbody>\n",
       "    <tr>\n",
       "      <th>0</th>\n",
       "      <td>128</td>\n",
       "      <td>1</td>\n",
       "      <td>265.1</td>\n",
       "      <td>197.4</td>\n",
       "      <td>244.7</td>\n",
       "      <td>10.0</td>\n",
       "      <td>1</td>\n",
       "      <td>0</td>\n",
       "      <td>110</td>\n",
       "      <td>99</td>\n",
       "      <td>91</td>\n",
       "      <td>3</td>\n",
       "      <td>75.56</td>\n",
       "      <td>0</td>\n",
       "    </tr>\n",
       "    <tr>\n",
       "      <th>1</th>\n",
       "      <td>107</td>\n",
       "      <td>1</td>\n",
       "      <td>161.6</td>\n",
       "      <td>195.5</td>\n",
       "      <td>254.4</td>\n",
       "      <td>13.7</td>\n",
       "      <td>1</td>\n",
       "      <td>0</td>\n",
       "      <td>123</td>\n",
       "      <td>103</td>\n",
       "      <td>103</td>\n",
       "      <td>3</td>\n",
       "      <td>59.24</td>\n",
       "      <td>0</td>\n",
       "    </tr>\n",
       "    <tr>\n",
       "      <th>2</th>\n",
       "      <td>137</td>\n",
       "      <td>0</td>\n",
       "      <td>243.4</td>\n",
       "      <td>121.2</td>\n",
       "      <td>162.6</td>\n",
       "      <td>12.2</td>\n",
       "      <td>0</td>\n",
       "      <td>0</td>\n",
       "      <td>114</td>\n",
       "      <td>110</td>\n",
       "      <td>104</td>\n",
       "      <td>5</td>\n",
       "      <td>62.29</td>\n",
       "      <td>0</td>\n",
       "    </tr>\n",
       "    <tr>\n",
       "      <th>3</th>\n",
       "      <td>84</td>\n",
       "      <td>0</td>\n",
       "      <td>299.4</td>\n",
       "      <td>61.9</td>\n",
       "      <td>196.9</td>\n",
       "      <td>6.6</td>\n",
       "      <td>2</td>\n",
       "      <td>1</td>\n",
       "      <td>71</td>\n",
       "      <td>88</td>\n",
       "      <td>89</td>\n",
       "      <td>7</td>\n",
       "      <td>66.80</td>\n",
       "      <td>0</td>\n",
       "    </tr>\n",
       "    <tr>\n",
       "      <th>4</th>\n",
       "      <td>75</td>\n",
       "      <td>0</td>\n",
       "      <td>166.7</td>\n",
       "      <td>148.3</td>\n",
       "      <td>186.9</td>\n",
       "      <td>10.1</td>\n",
       "      <td>3</td>\n",
       "      <td>1</td>\n",
       "      <td>113</td>\n",
       "      <td>122</td>\n",
       "      <td>121</td>\n",
       "      <td>3</td>\n",
       "      <td>52.09</td>\n",
       "      <td>0</td>\n",
       "    </tr>\n",
       "  </tbody>\n",
       "</table>\n",
       "</div>"
      ],
      "text/plain": [
       "   account_length  voice_mail_plan  day_mins  evening_mins  night_mins  \\\n",
       "0             128                1     265.1         197.4       244.7   \n",
       "1             107                1     161.6         195.5       254.4   \n",
       "2             137                0     243.4         121.2       162.6   \n",
       "3              84                0     299.4          61.9       196.9   \n",
       "4              75                0     166.7         148.3       186.9   \n",
       "\n",
       "   international_mins  customer_service_calls  international_plan  day_calls  \\\n",
       "0                10.0                       1                   0        110   \n",
       "1                13.7                       1                   0        123   \n",
       "2                12.2                       0                   0        114   \n",
       "3                 6.6                       2                   1         71   \n",
       "4                10.1                       3                   1        113   \n",
       "\n",
       "   evening_calls  night_calls  international_calls  total_charge  churn  \n",
       "0             99           91                    3         75.56      0  \n",
       "1            103          103                    3         59.24      0  \n",
       "2            110          104                    5         62.29      0  \n",
       "3             88           89                    7         66.80      0  \n",
       "4            122          121                    3         52.09      0  "
      ]
     },
     "execution_count": 49,
     "metadata": {},
     "output_type": "execute_result"
    }
   ],
   "source": [
    "new_df.head()"
   ]
  },
  {
   "cell_type": "code",
   "execution_count": 50,
   "id": "f3cb9b84",
   "metadata": {},
   "outputs": [
    {
     "data": {
      "text/plain": [
       "Index(['account_length', 'voice_mail_plan', 'day_mins', 'evening_mins',\n",
       "       'night_mins', 'international_mins', 'customer_service_calls',\n",
       "       'international_plan', 'day_calls', 'evening_calls', 'night_calls',\n",
       "       'international_calls', 'total_charge', 'churn'],\n",
       "      dtype='object')"
      ]
     },
     "execution_count": 50,
     "metadata": {},
     "output_type": "execute_result"
    }
   ],
   "source": [
    "new_df.columns"
   ]
  },
  {
   "cell_type": "markdown",
   "id": "03202e0a",
   "metadata": {},
   "source": [
    "## balancing -oversampling"
   ]
  },
  {
   "cell_type": "code",
   "execution_count": 51,
   "id": "d523c930",
   "metadata": {},
   "outputs": [],
   "source": [
    "from imblearn.over_sampling import RandomOverSampler\n",
    "from collections import Counter"
   ]
  },
  {
   "cell_type": "code",
   "execution_count": 52,
   "id": "0d1fe60d",
   "metadata": {},
   "outputs": [
    {
     "data": {
      "text/plain": [
       "Counter({0: 1988, 1: 345})"
      ]
     },
     "execution_count": 52,
     "metadata": {},
     "output_type": "execute_result"
    }
   ],
   "source": [
    "Counter(y_train)"
   ]
  },
  {
   "cell_type": "code",
   "execution_count": 53,
   "id": "004c0380",
   "metadata": {},
   "outputs": [
    {
     "name": "stderr",
     "output_type": "stream",
     "text": [
      "C:\\Users\\HP\\AppData\\Roaming\\Python\\Python39\\site-packages\\imblearn\\utils\\_validation.py:586: FutureWarning: Pass sampling_strategy=0.5 as keyword args. From version 0.9 passing these as positional arguments will result in an error\n",
      "  warnings.warn(\n"
     ]
    }
   ],
   "source": [
    "OS=RandomOverSampler(0.5)"
   ]
  },
  {
   "cell_type": "code",
   "execution_count": 54,
   "id": "9e7a4e44",
   "metadata": {},
   "outputs": [
    {
     "name": "stdout",
     "output_type": "stream",
     "text": [
      "the number of classes before fitCounter({0: 1988, 1: 345})\n",
      "the number of classes after fitCounter({0: 1988, 1: 994})\n"
     ]
    }
   ],
   "source": [
    "x_train_ns,y_train_ns=OS.fit_resample(x_train,y_train)\n",
    "print('the number of classes before fit{}'.format(Counter(y_train)))\n",
    "print('the number of classes after fit{}'.format(Counter(y_train_ns)))"
   ]
  },
  {
   "cell_type": "markdown",
   "id": "1bd206f0",
   "metadata": {},
   "source": [
    "# 1. RandomForest"
   ]
  },
  {
   "cell_type": "code",
   "execution_count": 55,
   "id": "4b23cea3",
   "metadata": {},
   "outputs": [],
   "source": [
    "from sklearn.ensemble import RandomForestClassifier"
   ]
  },
  {
   "cell_type": "code",
   "execution_count": 56,
   "id": "e9e70c96",
   "metadata": {},
   "outputs": [],
   "source": [
    "from sklearn.metrics import accuracy_score,confusion_matrix,classification_report"
   ]
  },
  {
   "cell_type": "code",
   "execution_count": 57,
   "id": "f3eb2193",
   "metadata": {},
   "outputs": [],
   "source": [
    "RFC= RandomForestClassifier()\n",
    "RFC.fit(x_train_ns,y_train_ns)\n",
    "y_pred_test_RF=RFC.predict(x_test)\n",
    "y_pred_train_RF=RFC.predict(x_train_ns)"
   ]
  },
  {
   "cell_type": "code",
   "execution_count": 58,
   "id": "b56e402b",
   "metadata": {},
   "outputs": [
    {
     "name": "stdout",
     "output_type": "stream",
     "text": [
      "Accuracy of Training data = 100.0\n",
      "Accuracy of Test data = 97.3\n"
     ]
    }
   ],
   "source": [
    "# accuracy score\n",
    "accuracy_train_RF=accuracy_score(y_train_ns,y_pred_train_RF)*100\n",
    "accuracy_test_RF= accuracy_score(y_test, y_pred_test_RF) * 100\n",
    "print('Accuracy of Training data =',accuracy_train_RF)\n",
    "print(\"Accuracy of Test data =\", accuracy_test_RF)"
   ]
  },
  {
   "cell_type": "code",
   "execution_count": 59,
   "id": "86fdf183",
   "metadata": {},
   "outputs": [
    {
     "name": "stdout",
     "output_type": "stream",
     "text": [
      "              precision    recall  f1-score   support\n",
      "\n",
      "           0       0.97      0.99      0.98       862\n",
      "           1       0.96      0.84      0.90       138\n",
      "\n",
      "    accuracy                           0.97      1000\n",
      "   macro avg       0.97      0.92      0.94      1000\n",
      "weighted avg       0.97      0.97      0.97      1000\n",
      "\n"
     ]
    }
   ],
   "source": [
    "print(classification_report(y_test, y_pred_test_RF))"
   ]
  },
  {
   "cell_type": "code",
   "execution_count": 60,
   "id": "b8e5446c",
   "metadata": {},
   "outputs": [
    {
     "data": {
      "image/png": "[encoded data removed]",
      "text/plain": [
       "<Figure size 432x288 with 1 Axes>"
      ]
     },
     "metadata": {
      "needs_background": "light"
     },
     "output_type": "display_data"
    }
   ],
   "source": [
    "from sklearn import metrics\n",
    "classes = np.unique(y_test)\n",
    "cm0 = metrics.confusion_matrix(y_test, y_pred_test_RF)\n",
    "fig, ax = plt.subplots()\n",
    "sns.heatmap(cm0, annot=True, fmt='d', ax=ax, cmap=plt.cm.Blues, \n",
    "            cbar=False)\n",
    "ax.set(xlabel=\"Pred\", ylabel=\"True\", xticklabels=classes, \n",
    "       yticklabels=classes, title=\"Confusion matrix\")\n",
    "plt.yticks(rotation=0);"
   ]
  },
  {
   "cell_type": "markdown",
   "id": "56363d13",
   "metadata": {},
   "source": [
    "# 2.Decision Tree"
   ]
  },
  {
   "cell_type": "code",
   "execution_count": 61,
   "id": "971fd6fa",
   "metadata": {},
   "outputs": [],
   "source": [
    "from sklearn.tree import DecisionTreeClassifier"
   ]
  },
  {
   "cell_type": "code",
   "execution_count": 62,
   "id": "d25be7c0",
   "metadata": {},
   "outputs": [],
   "source": [
    "from sklearn.metrics import accuracy_score,confusion_matrix,classification_report"
   ]
  },
  {
   "cell_type": "code",
   "execution_count": 63,
   "id": "11eedb0b",
   "metadata": {},
   "outputs": [],
   "source": [
    "DS = DecisionTreeClassifier()\n",
    "DS.fit(x_train_ns,y_train_ns)\n",
    "y_pred_test_DS=DS.predict(x_test)\n",
    "y_pred_train_DS=DS.predict(x_train_ns)"
   ]
  },
  {
   "cell_type": "code",
   "execution_count": 64,
   "id": "481812f3",
   "metadata": {},
   "outputs": [
    {
     "name": "stdout",
     "output_type": "stream",
     "text": [
      "Accuracy of Training data = 100.0\n",
      "Accuracy of Test data = 95.1\n"
     ]
    }
   ],
   "source": [
    "# accuracy score\n",
    "accuracy_train_DS=accuracy_score(y_train_ns,y_pred_train_DS)*100\n",
    "accuracy_test_DS= accuracy_score(y_test, y_pred_test_DS) * 100\n",
    "print('Accuracy of Training data =',accuracy_train_DS)\n",
    "print(\"Accuracy of Test data =\", accuracy_test_DS)"
   ]
  },
  {
   "cell_type": "code",
   "execution_count": 65,
   "id": "c9f34b36",
   "metadata": {},
   "outputs": [
    {
     "name": "stdout",
     "output_type": "stream",
     "text": [
      "              precision    recall  f1-score   support\n",
      "\n",
      "           0       0.98      0.97      0.97       862\n",
      "           1       0.81      0.85      0.83       138\n",
      "\n",
      "    accuracy                           0.95      1000\n",
      "   macro avg       0.89      0.91      0.90      1000\n",
      "weighted avg       0.95      0.95      0.95      1000\n",
      "\n"
     ]
    }
   ],
   "source": [
    "print(classification_report(y_test, y_pred_test_DS))"
   ]
  },
  {
   "cell_type": "code",
   "execution_count": 66,
   "id": "61dcd320",
   "metadata": {},
   "outputs": [
    {
     "data": {
      "image/png": "[encoded data removed]",
      "text/plain": [
       "<Figure size 432x288 with 1 Axes>"
      ]
     },
     "metadata": {
      "needs_background": "light"
     },
     "output_type": "display_data"
    }
   ],
   "source": [
    "from sklearn import metrics\n",
    "classes = np.unique(y_test)\n",
    "cm0 = metrics.confusion_matrix(y_test, y_pred_test_DS)\n",
    "fig, ax = plt.subplots()\n",
    "sns.heatmap(cm0, annot=True, fmt='d', ax=ax, cmap=plt.cm.Blues, \n",
    "            cbar=False)\n",
    "ax.set(xlabel=\"Pred\", ylabel=\"True\", xticklabels=classes, \n",
    "       yticklabels=classes, title=\"Confusion matrix\")\n",
    "plt.yticks(rotation=0);"
   ]
  },
  {
   "cell_type": "markdown",
   "id": "4bbdef45",
   "metadata": {},
   "source": [
    "# 3.LogisticRegression"
   ]
  },
  {
   "cell_type": "code",
   "execution_count": 67,
   "id": "013fdb39",
   "metadata": {},
   "outputs": [],
   "source": [
    "from sklearn.linear_model import LogisticRegression"
   ]
  },
  {
   "cell_type": "code",
   "execution_count": 68,
   "id": "00a8671e",
   "metadata": {},
   "outputs": [],
   "source": [
    "from sklearn.metrics import accuracy_score,confusion_matrix,classification_report"
   ]
  },
  {
   "cell_type": "code",
   "execution_count": 69,
   "id": "00f80ee7",
   "metadata": {},
   "outputs": [],
   "source": [
    "LR= LogisticRegression()\n",
    "LR.fit(x_train_ns,y_train_ns)\n",
    "y_pred_test_LR=LR.predict(x_test)\n",
    "y_pred_train_LR=LR.predict(x_train_ns)"
   ]
  },
  {
   "cell_type": "code",
   "execution_count": 70,
   "id": "e4bdf627",
   "metadata": {},
   "outputs": [
    {
     "name": "stdout",
     "output_type": "stream",
     "text": [
      "Accuracy of Training data = 78.73910127431255\n",
      "Accuracy of Test data = 82.19999999999999\n"
     ]
    }
   ],
   "source": [
    "# accuracy score\n",
    "accuracy_train_LR=accuracy_score(y_train_ns,y_pred_train_LR)*100\n",
    "accuracy_test_LR= accuracy_score(y_test, y_pred_test_LR) * 100\n",
    "print('Accuracy of Training data =',accuracy_train_LR)\n",
    "print(\"Accuracy of Test data =\", accuracy_test_LR)"
   ]
  },
  {
   "cell_type": "code",
   "execution_count": 71,
   "id": "3cc7fe07",
   "metadata": {},
   "outputs": [
    {
     "name": "stdout",
     "output_type": "stream",
     "text": [
      "              precision    recall  f1-score   support\n",
      "\n",
      "           0       0.92      0.87      0.89       862\n",
      "           1       0.39      0.53      0.45       138\n",
      "\n",
      "    accuracy                           0.82      1000\n",
      "   macro avg       0.66      0.70      0.67      1000\n",
      "weighted avg       0.85      0.82      0.83      1000\n",
      "\n"
     ]
    }
   ],
   "source": [
    "print(classification_report(y_test, y_pred_test_LR))"
   ]
  },
  {
   "cell_type": "code",
   "execution_count": 72,
   "id": "d4aa40ce",
   "metadata": {},
   "outputs": [
    {
     "data": {
      "image/png": "[encoded data removed]",
      "text/plain": [
       "<Figure size 432x288 with 1 Axes>"
      ]
     },
     "metadata": {
      "needs_background": "light"
     },
     "output_type": "display_data"
    }
   ],
   "source": [
    "from sklearn import metrics\n",
    "classes = np.unique(y_test)\n",
    "cm0 = metrics.confusion_matrix(y_test, y_pred_test_LR)\n",
    "fig, ax = plt.subplots()\n",
    "sns.heatmap(cm0, annot=True, fmt='d', ax=ax, cmap=plt.cm.Blues, \n",
    "            cbar=False)\n",
    "ax.set(xlabel=\"Pred\", ylabel=\"True\", xticklabels=classes, \n",
    "       yticklabels=classes, title=\"Confusion matrix\")\n",
    "plt.yticks(rotation=0);"
   ]
  },
  {
   "cell_type": "markdown",
   "id": "5e86539c",
   "metadata": {},
   "source": [
    "# 4. Support Vector Machines"
   ]
  },
  {
   "cell_type": "code",
   "execution_count": 73,
   "id": "ea2f4912",
   "metadata": {},
   "outputs": [],
   "source": [
    "from sklearn.svm import LinearSVC"
   ]
  },
  {
   "cell_type": "code",
   "execution_count": 74,
   "id": "46f34fe1",
   "metadata": {},
   "outputs": [
    {
     "name": "stderr",
     "output_type": "stream",
     "text": [
      "C:\\Users\\HP\\AppData\\Roaming\\Python\\Python39\\site-packages\\sklearn\\svm\\_base.py:1225: ConvergenceWarning: Liblinear failed to converge, increase the number of iterations.\n",
      "  warnings.warn(\n"
     ]
    }
   ],
   "source": [
    "SVM= LinearSVC()\n",
    "SVM.fit(x_train_ns,y_train_ns)\n",
    "y_pred_test_SVM=SVM.predict(x_test)\n",
    "y_pred_train_SVM=SVM.predict(x_train_ns)"
   ]
  },
  {
   "cell_type": "code",
   "execution_count": 75,
   "id": "26db0dbe",
   "metadata": {},
   "outputs": [
    {
     "name": "stdout",
     "output_type": "stream",
     "text": [
      "Accuracy of Training data = 78.9738430583501\n",
      "Accuracy of Test data = 82.1\n"
     ]
    }
   ],
   "source": [
    "# accuracy score\n",
    "accuracy_train_SVM=accuracy_score(y_train_ns,y_pred_train_SVM)*100\n",
    "accuracy_test_SVM= accuracy_score(y_test, y_pred_test_SVM) * 100\n",
    "print('Accuracy of Training data =',accuracy_train_SVM)\n",
    "print(\"Accuracy of Test data =\", accuracy_test_SVM)"
   ]
  },
  {
   "cell_type": "code",
   "execution_count": 76,
   "id": "3fbef7ae",
   "metadata": {},
   "outputs": [
    {
     "name": "stdout",
     "output_type": "stream",
     "text": [
      "              precision    recall  f1-score   support\n",
      "\n",
      "           0       0.92      0.87      0.89       862\n",
      "           1       0.39      0.51      0.44       138\n",
      "\n",
      "    accuracy                           0.82      1000\n",
      "   macro avg       0.65      0.69      0.67      1000\n",
      "weighted avg       0.84      0.82      0.83      1000\n",
      "\n"
     ]
    }
   ],
   "source": [
    "print(classification_report(y_test, y_pred_test_SVM))"
   ]
  },
  {
   "cell_type": "code",
   "execution_count": 77,
   "id": "de004d59",
   "metadata": {},
   "outputs": [
    {
     "data": {
      "image/png": "[encoded data removed]",
      "text/plain": [
       "<Figure size 432x288 with 1 Axes>"
      ]
     },
     "metadata": {
      "needs_background": "light"
     },
     "output_type": "display_data"
    }
   ],
   "source": [
    "from sklearn import metrics\n",
    "classes = np.unique(y_test)\n",
    "cm0 = metrics.confusion_matrix(y_test, y_pred_test_SVM)\n",
    "fig, ax = plt.subplots()\n",
    "sns.heatmap(cm0, annot=True, fmt='d', ax=ax, cmap=plt.cm.Blues, \n",
    "            cbar=False)\n",
    "ax.set(xlabel=\"Pred\", ylabel=\"True\", xticklabels=classes, \n",
    "       yticklabels=classes, title=\"Confusion matrix\")\n",
    "plt.yticks(rotation=0);"
   ]
  },
  {
   "cell_type": "markdown",
   "id": "e634359b",
   "metadata": {},
   "source": [
    "# 5.AdaBoostClassifier"
   ]
  },
  {
   "cell_type": "code",
   "execution_count": 78,
   "id": "459d148d",
   "metadata": {},
   "outputs": [],
   "source": [
    "from sklearn.ensemble import AdaBoostClassifier"
   ]
  },
  {
   "cell_type": "code",
   "execution_count": 79,
   "id": "2d51bb56",
   "metadata": {},
   "outputs": [],
   "source": [
    "ADA= AdaBoostClassifier()\n",
    "ADA.fit(x_train_ns,y_train_ns)\n",
    "y_pred_test_ADA=ADA.predict(x_test)\n",
    "y_pred_train_ADA=ADA.predict(x_train_ns)"
   ]
  },
  {
   "cell_type": "code",
   "execution_count": 80,
   "id": "f220c7bd",
   "metadata": {},
   "outputs": [
    {
     "name": "stdout",
     "output_type": "stream",
     "text": [
      "Accuracy of Training data = 91.44869215291752\n",
      "Accuracy of Test data = 90.2\n"
     ]
    }
   ],
   "source": [
    "# accuracy score\n",
    "accuracy_train_ADA=accuracy_score(y_train_ns,y_pred_train_ADA)*100\n",
    "accuracy_test_ADA= accuracy_score(y_test, y_pred_test_ADA) * 100\n",
    "print('Accuracy of Training data =',accuracy_train_ADA)\n",
    "print(\"Accuracy of Test data =\", accuracy_test_ADA)"
   ]
  },
  {
   "cell_type": "code",
   "execution_count": 81,
   "id": "9cf1ed63",
   "metadata": {},
   "outputs": [
    {
     "name": "stdout",
     "output_type": "stream",
     "text": [
      "              precision    recall  f1-score   support\n",
      "\n",
      "           0       0.96      0.93      0.94       862\n",
      "           1       0.62      0.74      0.68       138\n",
      "\n",
      "    accuracy                           0.90      1000\n",
      "   macro avg       0.79      0.83      0.81      1000\n",
      "weighted avg       0.91      0.90      0.91      1000\n",
      "\n"
     ]
    }
   ],
   "source": [
    "print(classification_report(y_test, y_pred_test_ADA))"
   ]
  },
  {
   "cell_type": "code",
   "execution_count": 82,
   "id": "daf9e67b",
   "metadata": {},
   "outputs": [
    {
     "data": {
      "image/png": "[encoded data removed]",
      "text/plain": [
       "<Figure size 432x288 with 1 Axes>"
      ]
     },
     "metadata": {
      "needs_background": "light"
     },
     "output_type": "display_data"
    }
   ],
   "source": [
    "from sklearn import metrics\n",
    "classes = np.unique(y_test)\n",
    "cm0 = metrics.confusion_matrix(y_test, y_pred_test_ADA)\n",
    "fig, ax = plt.subplots()\n",
    "sns.heatmap(cm0, annot=True, fmt='d', ax=ax, cmap=plt.cm.Blues, \n",
    "            cbar=False)\n",
    "ax.set(xlabel=\"Pred\", ylabel=\"True\", xticklabels=classes, \n",
    "       yticklabels=classes, title=\"Confusion matrix\")\n",
    "plt.yticks(rotation=0);"
   ]
  },
  {
   "cell_type": "markdown",
   "id": "deaae4ac",
   "metadata": {},
   "source": [
    "# 6. xgboost"
   ]
  },
  {
   "cell_type": "code",
   "execution_count": 83,
   "id": "6eaca433",
   "metadata": {},
   "outputs": [
    {
     "name": "stdout",
     "output_type": "stream",
     "text": [
      "Defaulting to user installation because normal site-packages is not writeable\n",
      "Requirement already satisfied: xgboost in c:\\users\\hp\\appdata\\roaming\\python\\python39\\site-packages (1.6.2)\n",
      "Requirement already satisfied: scipy in c:\\programdata\\anaconda3\\lib\\site-packages (from xgboost) (1.7.3)\n",
      "Requirement already satisfied: numpy in c:\\programdata\\anaconda3\\lib\\site-packages (from xgboost) (1.21.5)\n",
      "Note: you may need to restart the kernel to use updated packages.\n"
     ]
    }
   ],
   "source": [
    "pip install xgboost"
   ]
  },
  {
   "cell_type": "code",
   "execution_count": 84,
   "id": "8cec9331",
   "metadata": {
    "scrolled": true
   },
   "outputs": [],
   "source": [
    "from xgboost import XGBClassifier"
   ]
  },
  {
   "cell_type": "code",
   "execution_count": 85,
   "id": "bf1cffb3",
   "metadata": {},
   "outputs": [],
   "source": [
    "XG= AdaBoostClassifier()\n",
    "XG.fit(x_train_ns,y_train_ns)\n",
    "y_pred_test_XG=XG.predict(x_test)\n",
    "y_pred_train_XG=XG.predict(x_train_ns)"
   ]
  },
  {
   "cell_type": "code",
   "execution_count": 86,
   "id": "a970f210",
   "metadata": {},
   "outputs": [
    {
     "name": "stdout",
     "output_type": "stream",
     "text": [
      "Accuracy of Training data = 91.44869215291752\n",
      "Accuracy of Test data = 90.10000000000001\n"
     ]
    }
   ],
   "source": [
    "# accuracy score\n",
    "accuracy_train_XG=accuracy_score(y_train_ns,y_pred_train_XG)*100\n",
    "accuracy_test_XG= accuracy_score(y_test, y_pred_test_XG) * 100\n",
    "print('Accuracy of Training data =',accuracy_train_XG)\n",
    "print(\"Accuracy of Test data =\", accuracy_test_XG)"
   ]
  },
  {
   "cell_type": "code",
   "execution_count": 87,
   "id": "0676a0a8",
   "metadata": {},
   "outputs": [
    {
     "name": "stdout",
     "output_type": "stream",
     "text": [
      "              precision    recall  f1-score   support\n",
      "\n",
      "           0       0.96      0.93      0.94       862\n",
      "           1       0.62      0.74      0.67       138\n",
      "\n",
      "    accuracy                           0.90      1000\n",
      "   macro avg       0.79      0.83      0.81      1000\n",
      "weighted avg       0.91      0.90      0.90      1000\n",
      "\n"
     ]
    }
   ],
   "source": [
    "print(classification_report(y_test, y_pred_test_XG))"
   ]
  },
  {
   "cell_type": "code",
   "execution_count": 88,
   "id": "10339d08",
   "metadata": {},
   "outputs": [
    {
     "data": {
      "image/png": "[encoded data removed]",
      "text/plain": [
       "<Figure size 432x288 with 1 Axes>"
      ]
     },
     "metadata": {
      "needs_background": "light"
     },
     "output_type": "display_data"
    }
   ],
   "source": [
    "from sklearn import metrics\n",
    "classes = np.unique(y_test)\n",
    "cm0 = metrics.confusion_matrix(y_test, y_pred_test_ADA)\n",
    "fig, ax = plt.subplots()\n",
    "sns.heatmap(cm0, annot=True, fmt='d', ax=ax, cmap=plt.cm.Blues, \n",
    "            cbar=False)\n",
    "ax.set(xlabel=\"Pred\", ylabel=\"True\", xticklabels=classes, \n",
    "       yticklabels=classes, title=\"Confusion matrix\")\n",
    "plt.yticks(rotation=0);"
   ]
  },
  {
   "cell_type": "markdown",
   "id": "4dbe36a3",
   "metadata": {},
   "source": [
    "#### Quickly train each model in a loop, we'll initialize each model and store it by name in a dictionary:"
   ]
  },
  {
   "cell_type": "code",
   "execution_count": 89,
   "id": "83eaa869",
   "metadata": {},
   "outputs": [],
   "source": [
    "models = {}\n",
    "\n",
    "# Logistic Regression\n",
    "from sklearn.linear_model import LogisticRegression\n",
    "models['Logistic Regression'] = LogisticRegression()\n",
    "\n",
    "# Support Vector Machines\n",
    "from sklearn.svm import LinearSVC\n",
    "models['Support Vector Machines'] = LinearSVC()\n",
    "\n",
    "# Decision Trees\n",
    "from sklearn.tree import DecisionTreeClassifier\n",
    "models['Decision Trees'] = DecisionTreeClassifier()\n",
    "\n",
    "# Random Forest\n",
    "from sklearn.ensemble import RandomForestClassifier\n",
    "models['Random Forest'] = RandomForestClassifier()\n",
    "\n",
    "# #xgboost\n",
    "# from xgboost import XGBClassifier\n",
    "# models['xgboost']=XGBClassifier()\n",
    "\n",
    "#adaboost\n",
    "from sklearn.ensemble import AdaBoostClassifier\n",
    "models['adaboost']=AdaBoostClassifier()\n"
   ]
  },
  {
   "cell_type": "markdown",
   "id": "fb22c41b",
   "metadata": {},
   "source": [
    "#### Performance evaluation of each binary classifier"
   ]
  },
  {
   "cell_type": "code",
   "execution_count": 90,
   "id": "fbeab09c",
   "metadata": {},
   "outputs": [
    {
     "name": "stderr",
     "output_type": "stream",
     "text": [
      "C:\\Users\\HP\\AppData\\Roaming\\Python\\Python39\\site-packages\\sklearn\\svm\\_base.py:1225: ConvergenceWarning: Liblinear failed to converge, increase the number of iterations.\n",
      "  warnings.warn(\n"
     ]
    }
   ],
   "source": [
    "from sklearn.metrics import accuracy_score, precision_score, recall_score\n",
    "\n",
    "accuracy, precision, recall = {}, {}, {}\n",
    "\n",
    "for key in models.keys():\n",
    "    \n",
    "    # Fit the classifier\n",
    "    models[key].fit(x_train_ns,y_train_ns)# .fit on balanced datset (we have done by using over-sampling)\n",
    "    \n",
    "    # Make predictions on test dataset\n",
    "    predictions = models[key].predict(x_test)\n",
    "    \n",
    "    # Calculate metrics\n",
    "    accuracy[key] = accuracy_score(predictions, y_test)\n",
    "    precision[key] = precision_score(predictions, y_test)\n",
    "    recall[key] = recall_score(predictions, y_test)"
   ]
  },
  {
   "cell_type": "markdown",
   "id": "24f5ef51",
   "metadata": {},
   "source": [
    "#### With all metrics stored, we can use pandas to view the data as a table:"
   ]
  },
  {
   "cell_type": "code",
   "execution_count": 91,
   "id": "e452a1b8",
   "metadata": {},
   "outputs": [
    {
     "data": {
      "text/html": [
       "<div>\n",
       "<style scoped>\n",
       "    .dataframe tbody tr th:only-of-type {\n",
       "        vertical-align: middle;\n",
       "    }\n",
       "\n",
       "    .dataframe tbody tr th {\n",
       "        vertical-align: top;\n",
       "    }\n",
       "\n",
       "    .dataframe thead th {\n",
       "        text-align: right;\n",
       "    }\n",
       "</style>\n",
       "<table border=\"1\" class=\"dataframe\">\n",
       "  <thead>\n",
       "    <tr style=\"text-align: right;\">\n",
       "      <th></th>\n",
       "      <th>Accuracy</th>\n",
       "      <th>Precision</th>\n",
       "      <th>Recall</th>\n",
       "    </tr>\n",
       "  </thead>\n",
       "  <tbody>\n",
       "    <tr>\n",
       "      <th>Logistic Regression</th>\n",
       "      <td>0.822</td>\n",
       "      <td>0.528986</td>\n",
       "      <td>0.392473</td>\n",
       "    </tr>\n",
       "    <tr>\n",
       "      <th>Support Vector Machines</th>\n",
       "      <td>0.821</td>\n",
       "      <td>0.507246</td>\n",
       "      <td>0.386740</td>\n",
       "    </tr>\n",
       "    <tr>\n",
       "      <th>Decision Trees</th>\n",
       "      <td>0.952</td>\n",
       "      <td>0.847826</td>\n",
       "      <td>0.812500</td>\n",
       "    </tr>\n",
       "    <tr>\n",
       "      <th>Random Forest</th>\n",
       "      <td>0.974</td>\n",
       "      <td>0.847826</td>\n",
       "      <td>0.959016</td>\n",
       "    </tr>\n",
       "    <tr>\n",
       "      <th>adaboost</th>\n",
       "      <td>0.902</td>\n",
       "      <td>0.739130</td>\n",
       "      <td>0.621951</td>\n",
       "    </tr>\n",
       "  </tbody>\n",
       "</table>\n",
       "</div>"
      ],
      "text/plain": [
       "                         Accuracy  Precision    Recall\n",
       "Logistic Regression         0.822   0.528986  0.392473\n",
       "Support Vector Machines     0.821   0.507246  0.386740\n",
       "Decision Trees              0.952   0.847826  0.812500\n",
       "Random Forest               0.974   0.847826  0.959016\n",
       "adaboost                    0.902   0.739130  0.621951"
      ]
     },
     "execution_count": 91,
     "metadata": {},
     "output_type": "execute_result"
    }
   ],
   "source": [
    "import pandas as pd\n",
    "\n",
    "df_model = pd.DataFrame(index=models.keys(), columns=['Accuracy', 'Precision', 'Recall'])\n",
    "df_model['Accuracy'] = accuracy.values()\n",
    "df_model['Precision'] = precision.values()\n",
    "df_model['Recall'] = recall.values()\n",
    "\n",
    "df_model"
   ]
  },
  {
   "cell_type": "markdown",
   "id": "4054f7d9",
   "metadata": {},
   "source": [
    "#### Finally, here's a quick bar chart to compare the classifiers' performance:"
   ]
  },
  {
   "cell_type": "code",
   "execution_count": 92,
   "id": "09bd7fe3",
   "metadata": {},
   "outputs": [
    {
     "name": "stderr",
     "output_type": "stream",
     "text": [
      "C:\\Users\\HP\\AppData\\Local\\Temp\\ipykernel_1808\\1467988504.py:8: UserWarning: Tight layout not applied. The left and right margins cannot be made large enough to accommodate all axes decorations.\n",
      "  plt.tight_layout()\n"
     ]
    },
    {
     "data": {
      "image/png": "[encoded data removed]",
      "text/plain": [
       "<Figure size 432x288 with 1 Axes>"
      ]
     },
     "metadata": {
      "needs_background": "light"
     },
     "output_type": "display_data"
    }
   ],
   "source": [
    "ax = df_model.plot.barh()\n",
    "ax.legend(\n",
    "    ncol=len(models.keys()), \n",
    "    bbox_to_anchor=(0, 1), \n",
    "    loc='lower left', \n",
    "    prop={'size': 24}\n",
    ")\n",
    "plt.tight_layout()"
   ]
  },
  {
   "cell_type": "markdown",
   "id": "56cb25aa",
   "metadata": {},
   "source": [
    "# saving model"
   ]
  },
  {
   "cell_type": "code",
   "execution_count": 93,
   "id": "d9ca317a",
   "metadata": {},
   "outputs": [],
   "source": [
    "import pickle\n",
    "from pickle import load\n",
    "from pickle import dump"
   ]
  },
  {
   "cell_type": "code",
   "execution_count": 95,
   "id": "d296ca1d",
   "metadata": {},
   "outputs": [],
   "source": [
    "pickle_out=open('RFC.pkl','wb')\n",
    "pickle.dump(RFC,pickle_out)\n",
    "pickle_out.close()"
   ]
  },
  {
   "cell_type": "code",
   "execution_count": null,
   "id": "a513c858",
   "metadata": {},
   "outputs": [],
   "source": []
  }
 ],
 "metadata": {
  "kernelspec": {
   "display_name": "Python 3 (ipykernel)",
   "language": "python",
   "name": "python3"
  },
  "language_info": {
   "codemirror_mode": {
    "name": "ipython",
    "version": 3
   },
   "file_extension": ".py",
   "mimetype": "text/x-python",
   "name": "python",
   "nbconvert_exporter": "python",
   "pygments_lexer": "ipython3",
   "version": "3.9.12"
  }
 },
 "nbformat": 4,
 "nbformat_minor": 5
}
